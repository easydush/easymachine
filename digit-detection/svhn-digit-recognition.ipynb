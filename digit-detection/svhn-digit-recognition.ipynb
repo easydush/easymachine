{
 "cells": [
  {
   "cell_type": "code",
   "execution_count": 8,
   "metadata": {
    "_cell_guid": "e0fb6c82-f238-4349-91f9-05a2df240d50",
    "_uuid": "f873d624b142a2b70cdaa7fcbc6d29a941a2caa3"
   },
   "outputs": [],
   "source": [
    "import warnings;\n",
    "\n",
    "from keras import Model\n",
    "\n",
    "warnings.filterwarnings('ignore')\n",
    "import numpy as np,pandas as pd,pylab as pl\n",
    "import glob\n",
    "from sklearn.model_selection import train_test_split\n",
    "from tensorflow.keras.utils import to_categorical\n",
    "from keras.callbacks import ModelCheckpoint,EarlyStopping\n",
    "from keras.callbacks import ReduceLROnPlateau\n",
    "from keras.layers import Dense,Dropout\n",
    "from keras.layers import Flatten,Input,BatchNormalization\n",
    "from keras.layers import Conv2D,MaxPooling2D"
   ]
  },
  {
   "cell_type": "code",
   "execution_count": 10,
   "metadata": {
    "_kg_hide-output": true,
    "_uuid": "d0ba145624cfaa21e3ca1541526d9f75e6161d8c"
   },
   "outputs": [
    {
     "data": {
      "text/plain": "['.\\\\extra_images.csv',\n '.\\\\extra_images_2.csv',\n '.\\\\extra_labels.csv',\n '.\\\\extra_labels_2.csv',\n '.\\\\svhn-digit-recognition.ipynb',\n '.\\\\test_images.csv',\n '.\\\\test_images_2.csv',\n '.\\\\test_labels.csv',\n '.\\\\test_labels_2.csv',\n '.\\\\train_images.csv',\n '.\\\\train_images_2.csv',\n '.\\\\train_labels.csv',\n '.\\\\train_labels_2.csv',\n '.\\\\weights.housenumbers.hdf5']"
     },
     "execution_count": 10,
     "metadata": {},
     "output_type": "execute_result"
    }
   ],
   "source": [
    "path='./'\n",
    "fw='weights.housenumbers.hdf5'\n",
    "glob.glob(path+'*')"
   ]
  },
  {
   "cell_type": "markdown",
   "metadata": {
    "_uuid": "dae24750aa92b89a329e22a85ddf3da2ea4796bf"
   },
   "source": [
    "##  Data Loading & Preprocessing"
   ]
  },
  {
   "cell_type": "code",
   "execution_count": 12,
   "metadata": {
    "_kg_hide-input": true,
    "_uuid": "629a828d8f35846683bd28f3735a45517b9102af"
   },
   "outputs": [
    {
     "name": "stdout",
     "output_type": "stream",
     "text": [
      "Label:  [10 10 10  4  6]\n",
      "[[0 0 0 0 0 0 0 0 0 0 1]\n",
      " [0 0 0 0 0 0 0 0 0 0 1]\n",
      " [0 0 0 0 0 0 0 0 0 0 1]\n",
      " [0 0 0 0 1 0 0 0 0 0 0]\n",
      " [0 0 0 0 0 0 1 0 0 0 0]]\n"
     ]
    },
    {
     "data": {
      "text/plain": "<Figure size 432x288 with 1 Axes>",
      "image/png": "[encoded data removed]"
     },
     "metadata": {
      "needs_background": "light"
     },
     "output_type": "display_data"
    }
   ],
   "source": [
    "train_images=pd.read_csv(path+'train_images.csv')\n",
    "train_labels=pd.read_csv(path+'train_labels.csv')\n",
    "test_images=pd.read_csv(path+'test_images.csv')\n",
    "test_labels=pd.read_csv(path+'test_labels.csv')\n",
    "extra_images=pd.read_csv(path+'extra_images.csv')\n",
    "extra_labels=pd.read_csv(path+'extra_labels.csv')\n",
    "train_images=train_images.iloc[:,1:]\\\n",
    ".values.astype('float32').reshape(-1,32,32,1)\n",
    "train_labels=train_labels.iloc[:,1:]\\\n",
    ".values.astype('int16')\n",
    "test_images=test_images.iloc[:,1:]\\\n",
    ".values.astype('float32').reshape(-1,32,32,1)\n",
    "test_labels=test_labels.iloc[:,1:]\\\n",
    ".values.astype('int16')\n",
    "extra_images=extra_images.iloc[:,1:]\\\n",
    ".values.astype('float32').reshape(-1,32,32,1)\n",
    "extra_labels=extra_labels.iloc[:,1:]\\\n",
    ".values.astype('int16')\n",
    "ctrain_labels=to_categorical(train_labels,num_classes=11)\\\n",
    ".astype('int16')\n",
    "ctest_labels=to_categorical(test_labels,num_classes=11)\\\n",
    ".astype('int16')\n",
    "cextra_labels=to_categorical(extra_labels,num_classes=11)\\\n",
    ".astype('int16')\n",
    "n=np.random.randint(1,2000,1)[0]\n",
    "print('Label: ',train_labels[n])\n",
    "print(ctrain_labels[n])\n",
    "pl.imshow(train_images[n].reshape(32,32),\n",
    "          cmap=pl.cm.bone);"
   ]
  },
  {
   "cell_type": "code",
   "execution_count": 13,
   "metadata": {
    "_kg_hide-input": true,
    "_uuid": "74237c16bd2977258a196d868cf0aab0e0113e76"
   },
   "outputs": [
    {
     "name": "stdout",
     "output_type": "stream",
     "text": [
      "(25600, 32, 32, 1)\n",
      "(3200, 32, 32, 1)\n",
      "(3200, 32, 32, 1)\n",
      "(25600, 5, 11)\n",
      "(3200, 5, 11)\n",
      "(3200, 5, 11)\n"
     ]
    }
   ],
   "source": [
    "X=np.concatenate((train_images,\n",
    "                        test_images),axis=0)\n",
    "X=np.concatenate((X,extra_images),axis=0)\n",
    "y=np.concatenate((ctrain_labels,\n",
    "                  ctest_labels),axis=0)\n",
    "y=np.concatenate((y,cextra_labels),axis=0)\n",
    "def tts(X,y): \n",
    "    x_train,x_test,y_train,y_test=\\\n",
    "    train_test_split(X,y,test_size=.2,random_state=1)\n",
    "    n=int(len(x_test)/2)\n",
    "    x_valid,y_valid=x_test[:n],y_test[:n]\n",
    "    x_test,y_test=x_test[n:],y_test[n:]\n",
    "    return x_train,x_valid,x_test,y_train,y_valid,y_test\n",
    "x_train,x_valid,x_test,\\\n",
    "y_train,y_valid,y_test=tts(X,y)\n",
    "y_train_list=[y_train[:,i] for i in range(5)]\n",
    "y_test_list=[y_test[:,i] for i in range(5)]\n",
    "y_valid_list=[y_valid[:,i] for i in range(5)]\n",
    "for el in [x_train,x_valid,x_test,\n",
    "           y_train,y_valid,y_test]:\n",
    "    print(el.shape)"
   ]
  },
  {
   "cell_type": "markdown",
   "metadata": {
    "_uuid": "0d31b8370bbb20035f5c394744f71ff501e0e33d"
   },
   "source": [
    "## Build the Model"
   ]
  },
  {
   "cell_type": "code",
   "execution_count": 14,
   "metadata": {
    "_uuid": "b2cd698ddfa01ea0e0621158837e22f2eeacad3d"
   },
   "outputs": [],
   "source": [
    "def cnn_model():    \n",
    "    model_input=Input(shape=(32,32,1))\n",
    "    x=BatchNormalization()(model_input)        \n",
    "    x=Conv2D(32,(3,3),activation='relu',\n",
    "             padding='same')(model_input)\n",
    "    x=MaxPooling2D(pool_size=(2,2))(x)     \n",
    "    x=Conv2D(32,(3,3),activation='relu')(x)\n",
    "    x=MaxPooling2D(pool_size=(2,2))(x)    \n",
    "    x=Dropout(.25)(x)    \n",
    "    x=Conv2D(64,(3,3),activation='relu')(x)       \n",
    "    x=Conv2D(64,(3,3),activation='relu')(x)    \n",
    "    x=Dropout(.25)(x)    \n",
    "    x=Conv2D(196,(3,3),activation='relu')(x)    \n",
    "    x=Dropout(.25)(x)              \n",
    "    x=Flatten()(x)    \n",
    "    x=Dense(512,activation='relu')(x)    \n",
    "    x=Dropout(.5)(x)    \n",
    "    y=[Dense(11,activation='softmax')(x)\n",
    "       for i in range(5)]    \n",
    "    model=Model(inputs=model_input,outputs=y)\n",
    "    model.compile(loss='categorical_crossentropy',\n",
    "                  optimizer='adam',metrics=['accuracy'])\n",
    "    return model\n",
    "\n",
    "cnn_model=cnn_model()"
   ]
  },
  {
   "cell_type": "code",
   "execution_count": 15,
   "metadata": {
    "_kg_hide-output": true,
    "_uuid": "b1d01fdaa13187288da76a85e22b198b40050b4d"
   },
   "outputs": [
    {
     "name": "stdout",
     "output_type": "stream",
     "text": [
      "Epoch 1/20\n",
      "\n",
      "Epoch 00001: val_loss improved from inf to 5.76710, saving model to weights.housenumbers.hdf5\n",
      "200/200 - 21s - loss: 6.4707 - dense_1_loss: 0.0882 - dense_2_loss: 0.3228 - dense_3_loss: 1.3770 - dense_4_loss: 2.3315 - dense_5_loss: 2.3512 - dense_1_accuracy: 0.9945 - dense_2_accuracy: 0.9446 - dense_3_accuracy: 0.5974 - dense_4_accuracy: 0.1531 - dense_5_accuracy: 0.1119 - val_loss: 5.7671 - val_dense_1_loss: 0.0077 - val_dense_2_loss: 0.2323 - val_dense_3_loss: 1.1493 - val_dense_4_loss: 2.0894 - val_dense_5_loss: 2.2885 - val_dense_1_accuracy: 0.9997 - val_dense_2_accuracy: 0.9438 - val_dense_3_accuracy: 0.6194 - val_dense_4_accuracy: 0.2544 - val_dense_5_accuracy: 0.1294 - lr: 0.0010 - 21s/epoch - 106ms/step\n",
      "Epoch 2/20\n",
      "\n",
      "Epoch 00002: val_loss improved from 5.76710 to 5.44789, saving model to weights.housenumbers.hdf5\n",
      "200/200 - 18s - loss: 5.6594 - dense_1_loss: 0.0056 - dense_2_loss: 0.2058 - dense_3_loss: 1.0940 - dense_4_loss: 2.0601 - dense_5_loss: 2.2940 - dense_1_accuracy: 0.9996 - dense_2_accuracy: 0.9493 - dense_3_accuracy: 0.6441 - dense_4_accuracy: 0.2552 - dense_5_accuracy: 0.1428 - val_loss: 5.4479 - val_dense_1_loss: 0.0029 - val_dense_2_loss: 0.2075 - val_dense_3_loss: 1.0221 - val_dense_4_loss: 1.9625 - val_dense_5_loss: 2.2530 - val_dense_1_accuracy: 0.9997 - val_dense_2_accuracy: 0.9438 - val_dense_3_accuracy: 0.6862 - val_dense_4_accuracy: 0.3359 - val_dense_5_accuracy: 0.1606 - lr: 0.0010 - 18s/epoch - 88ms/step\n",
      "Epoch 3/20\n",
      "\n",
      "Epoch 00003: val_loss improved from 5.44789 to 4.65094, saving model to weights.housenumbers.hdf5\n",
      "200/200 - 18s - loss: 5.1583 - dense_1_loss: 0.0044 - dense_2_loss: 0.1929 - dense_3_loss: 0.9169 - dense_4_loss: 1.8280 - dense_5_loss: 2.2161 - dense_1_accuracy: 0.9996 - dense_2_accuracy: 0.9493 - dense_3_accuracy: 0.7131 - dense_4_accuracy: 0.3747 - dense_5_accuracy: 0.1834 - val_loss: 4.6509 - val_dense_1_loss: 0.0022 - val_dense_2_loss: 0.2012 - val_dense_3_loss: 0.8112 - val_dense_4_loss: 1.5431 - val_dense_5_loss: 2.0933 - val_dense_1_accuracy: 0.9997 - val_dense_2_accuracy: 0.9438 - val_dense_3_accuracy: 0.7609 - val_dense_4_accuracy: 0.4725 - val_dense_5_accuracy: 0.2391 - lr: 0.0010 - 18s/epoch - 88ms/step\n",
      "Epoch 4/20\n",
      "\n",
      "Epoch 00004: val_loss improved from 4.65094 to 3.87584, saving model to weights.housenumbers.hdf5\n",
      "200/200 - 17s - loss: 4.4302 - dense_1_loss: 0.0038 - dense_2_loss: 0.1654 - dense_3_loss: 0.7656 - dense_4_loss: 1.5374 - dense_5_loss: 1.9581 - dense_1_accuracy: 0.9996 - dense_2_accuracy: 0.9520 - dense_3_accuracy: 0.7632 - dense_4_accuracy: 0.4730 - dense_5_accuracy: 0.2949 - val_loss: 3.8758 - val_dense_1_loss: 0.0028 - val_dense_2_loss: 0.1504 - val_dense_3_loss: 0.6880 - val_dense_4_loss: 1.3175 - val_dense_5_loss: 1.7171 - val_dense_1_accuracy: 0.9997 - val_dense_2_accuracy: 0.9534 - val_dense_3_accuracy: 0.7925 - val_dense_4_accuracy: 0.5553 - val_dense_5_accuracy: 0.3916 - lr: 0.0010 - 17s/epoch - 87ms/step\n",
      "Epoch 5/20\n",
      "\n",
      "Epoch 00005: val_loss improved from 3.87584 to 3.18099, saving model to weights.housenumbers.hdf5\n",
      "200/200 - 17s - loss: 3.7924 - dense_1_loss: 0.0033 - dense_2_loss: 0.1473 - dense_3_loss: 0.6976 - dense_4_loss: 1.3453 - dense_5_loss: 1.5989 - dense_1_accuracy: 0.9996 - dense_2_accuracy: 0.9564 - dense_3_accuracy: 0.7817 - dense_4_accuracy: 0.5378 - dense_5_accuracy: 0.4344 - val_loss: 3.1810 - val_dense_1_loss: 0.0022 - val_dense_2_loss: 0.1309 - val_dense_3_loss: 0.6199 - val_dense_4_loss: 1.0860 - val_dense_5_loss: 1.3420 - val_dense_1_accuracy: 0.9997 - val_dense_2_accuracy: 0.9613 - val_dense_3_accuracy: 0.8094 - val_dense_4_accuracy: 0.6513 - val_dense_5_accuracy: 0.5384 - lr: 0.0010 - 17s/epoch - 85ms/step\n",
      "Epoch 6/20\n",
      "\n",
      "Epoch 00006: val_loss improved from 3.18099 to 2.68193, saving model to weights.housenumbers.hdf5\n",
      "200/200 - 17s - loss: 3.3176 - dense_1_loss: 0.0035 - dense_2_loss: 0.1346 - dense_3_loss: 0.6427 - dense_4_loss: 1.1911 - dense_5_loss: 1.3457 - dense_1_accuracy: 0.9996 - dense_2_accuracy: 0.9605 - dense_3_accuracy: 0.7997 - dense_4_accuracy: 0.5947 - dense_5_accuracy: 0.5307 - val_loss: 2.6819 - val_dense_1_loss: 0.0021 - val_dense_2_loss: 0.1113 - val_dense_3_loss: 0.5786 - val_dense_4_loss: 0.9302 - val_dense_5_loss: 1.0597 - val_dense_1_accuracy: 0.9997 - val_dense_2_accuracy: 0.9659 - val_dense_3_accuracy: 0.8178 - val_dense_4_accuracy: 0.7109 - val_dense_5_accuracy: 0.6491 - lr: 0.0010 - 17s/epoch - 86ms/step\n",
      "Epoch 7/20\n",
      "\n",
      "Epoch 00007: val_loss improved from 2.68193 to 2.43932, saving model to weights.housenumbers.hdf5\n",
      "200/200 - 17s - loss: 3.0144 - dense_1_loss: 0.0036 - dense_2_loss: 0.1267 - dense_3_loss: 0.6146 - dense_4_loss: 1.0692 - dense_5_loss: 1.2003 - dense_1_accuracy: 0.9996 - dense_2_accuracy: 0.9636 - dense_3_accuracy: 0.8059 - dense_4_accuracy: 0.6395 - dense_5_accuracy: 0.5896 - val_loss: 2.4393 - val_dense_1_loss: 0.0023 - val_dense_2_loss: 0.1068 - val_dense_3_loss: 0.5613 - val_dense_4_loss: 0.8254 - val_dense_5_loss: 0.9435 - val_dense_1_accuracy: 0.9997 - val_dense_2_accuracy: 0.9659 - val_dense_3_accuracy: 0.8272 - val_dense_4_accuracy: 0.7456 - val_dense_5_accuracy: 0.7038 - lr: 0.0010 - 17s/epoch - 86ms/step\n",
      "Epoch 8/20\n",
      "\n",
      "Epoch 00008: val_loss improved from 2.43932 to 2.22404, saving model to weights.housenumbers.hdf5\n",
      "200/200 - 18s - loss: 2.7500 - dense_1_loss: 0.0030 - dense_2_loss: 0.1161 - dense_3_loss: 0.5801 - dense_4_loss: 0.9604 - dense_5_loss: 1.0904 - dense_1_accuracy: 0.9996 - dense_2_accuracy: 0.9644 - dense_3_accuracy: 0.8155 - dense_4_accuracy: 0.6787 - dense_5_accuracy: 0.6280 - val_loss: 2.2240 - val_dense_1_loss: 0.0023 - val_dense_2_loss: 0.1003 - val_dense_3_loss: 0.5419 - val_dense_4_loss: 0.7283 - val_dense_5_loss: 0.8513 - val_dense_1_accuracy: 0.9997 - val_dense_2_accuracy: 0.9709 - val_dense_3_accuracy: 0.8322 - val_dense_4_accuracy: 0.7788 - val_dense_5_accuracy: 0.7287 - lr: 0.0010 - 18s/epoch - 90ms/step\n",
      "Epoch 9/20\n",
      "\n",
      "Epoch 00009: val_loss improved from 2.22404 to 2.03992, saving model to weights.housenumbers.hdf5\n",
      "200/200 - 17s - loss: 2.5724 - dense_1_loss: 0.0029 - dense_2_loss: 0.1110 - dense_3_loss: 0.5614 - dense_4_loss: 0.8874 - dense_5_loss: 1.0097 - dense_1_accuracy: 0.9996 - dense_2_accuracy: 0.9674 - dense_3_accuracy: 0.8236 - dense_4_accuracy: 0.7056 - dense_5_accuracy: 0.6600 - val_loss: 2.0399 - val_dense_1_loss: 0.0023 - val_dense_2_loss: 0.0946 - val_dense_3_loss: 0.5128 - val_dense_4_loss: 0.6619 - val_dense_5_loss: 0.7684 - val_dense_1_accuracy: 0.9997 - val_dense_2_accuracy: 0.9719 - val_dense_3_accuracy: 0.8416 - val_dense_4_accuracy: 0.7966 - val_dense_5_accuracy: 0.7525 - lr: 0.0010 - 17s/epoch - 85ms/step\n",
      "Epoch 10/20\n",
      "\n",
      "Epoch 00010: val_loss improved from 2.03992 to 1.95857, saving model to weights.housenumbers.hdf5\n",
      "200/200 - 17s - loss: 2.4355 - dense_1_loss: 0.0029 - dense_2_loss: 0.1049 - dense_3_loss: 0.5481 - dense_4_loss: 0.8287 - dense_5_loss: 0.9510 - dense_1_accuracy: 0.9996 - dense_2_accuracy: 0.9695 - dense_3_accuracy: 0.8267 - dense_4_accuracy: 0.7299 - dense_5_accuracy: 0.6825 - val_loss: 1.9586 - val_dense_1_loss: 0.0022 - val_dense_2_loss: 0.0926 - val_dense_3_loss: 0.5036 - val_dense_4_loss: 0.6277 - val_dense_5_loss: 0.7325 - val_dense_1_accuracy: 0.9997 - val_dense_2_accuracy: 0.9725 - val_dense_3_accuracy: 0.8481 - val_dense_4_accuracy: 0.8153 - val_dense_5_accuracy: 0.7741 - lr: 0.0010 - 17s/epoch - 86ms/step\n",
      "Epoch 11/20\n",
      "\n",
      "Epoch 00011: val_loss improved from 1.95857 to 1.85400, saving model to weights.housenumbers.hdf5\n",
      "200/200 - 17s - loss: 2.3101 - dense_1_loss: 0.0032 - dense_2_loss: 0.1023 - dense_3_loss: 0.5299 - dense_4_loss: 0.7835 - dense_5_loss: 0.8912 - dense_1_accuracy: 0.9996 - dense_2_accuracy: 0.9697 - dense_3_accuracy: 0.8334 - dense_4_accuracy: 0.7458 - dense_5_accuracy: 0.7052 - val_loss: 1.8540 - val_dense_1_loss: 0.0021 - val_dense_2_loss: 0.0926 - val_dense_3_loss: 0.4924 - val_dense_4_loss: 0.5882 - val_dense_5_loss: 0.6787 - val_dense_1_accuracy: 0.9997 - val_dense_2_accuracy: 0.9716 - val_dense_3_accuracy: 0.8519 - val_dense_4_accuracy: 0.8269 - val_dense_5_accuracy: 0.7819 - lr: 0.0010 - 17s/epoch - 85ms/step\n",
      "Epoch 12/20\n",
      "\n",
      "Epoch 00012: val_loss improved from 1.85400 to 1.81554, saving model to weights.housenumbers.hdf5\n",
      "200/200 - 17s - loss: 2.1980 - dense_1_loss: 0.0029 - dense_2_loss: 0.0988 - dense_3_loss: 0.5142 - dense_4_loss: 0.7444 - dense_5_loss: 0.8377 - dense_1_accuracy: 0.9996 - dense_2_accuracy: 0.9693 - dense_3_accuracy: 0.8364 - dense_4_accuracy: 0.7580 - dense_5_accuracy: 0.7210 - val_loss: 1.8155 - val_dense_1_loss: 0.0022 - val_dense_2_loss: 0.0862 - val_dense_3_loss: 0.4807 - val_dense_4_loss: 0.5812 - val_dense_5_loss: 0.6653 - val_dense_1_accuracy: 0.9997 - val_dense_2_accuracy: 0.9753 - val_dense_3_accuracy: 0.8562 - val_dense_4_accuracy: 0.8222 - val_dense_5_accuracy: 0.7937 - lr: 0.0010 - 17s/epoch - 85ms/step\n",
      "Epoch 13/20\n",
      "\n",
      "Epoch 00013: val_loss improved from 1.81554 to 1.75316, saving model to weights.housenumbers.hdf5\n",
      "200/200 - 17s - loss: 2.1102 - dense_1_loss: 0.0027 - dense_2_loss: 0.0955 - dense_3_loss: 0.5032 - dense_4_loss: 0.7015 - dense_5_loss: 0.8073 - dense_1_accuracy: 0.9996 - dense_2_accuracy: 0.9720 - dense_3_accuracy: 0.8399 - dense_4_accuracy: 0.7698 - dense_5_accuracy: 0.7328 - val_loss: 1.7532 - val_dense_1_loss: 0.0022 - val_dense_2_loss: 0.0870 - val_dense_3_loss: 0.4717 - val_dense_4_loss: 0.5642 - val_dense_5_loss: 0.6281 - val_dense_1_accuracy: 0.9997 - val_dense_2_accuracy: 0.9753 - val_dense_3_accuracy: 0.8541 - val_dense_4_accuracy: 0.8359 - val_dense_5_accuracy: 0.8031 - lr: 0.0010 - 17s/epoch - 86ms/step\n",
      "Epoch 14/20\n",
      "\n",
      "Epoch 00014: val_loss improved from 1.75316 to 1.66830, saving model to weights.housenumbers.hdf5\n",
      "200/200 - 17s - loss: 2.0472 - dense_1_loss: 0.0030 - dense_2_loss: 0.0921 - dense_3_loss: 0.4918 - dense_4_loss: 0.6808 - dense_5_loss: 0.7796 - dense_1_accuracy: 0.9996 - dense_2_accuracy: 0.9722 - dense_3_accuracy: 0.8439 - dense_4_accuracy: 0.7808 - dense_5_accuracy: 0.7437 - val_loss: 1.6683 - val_dense_1_loss: 0.0020 - val_dense_2_loss: 0.0873 - val_dense_3_loss: 0.4559 - val_dense_4_loss: 0.5276 - val_dense_5_loss: 0.5955 - val_dense_1_accuracy: 0.9997 - val_dense_2_accuracy: 0.9737 - val_dense_3_accuracy: 0.8637 - val_dense_4_accuracy: 0.8356 - val_dense_5_accuracy: 0.8097 - lr: 0.0010 - 17s/epoch - 86ms/step\n",
      "Epoch 15/20\n",
      "\n",
      "Epoch 00015: val_loss improved from 1.66830 to 1.59527, saving model to weights.housenumbers.hdf5\n",
      "200/200 - 17s - loss: 1.9543 - dense_1_loss: 0.0026 - dense_2_loss: 0.0907 - dense_3_loss: 0.4751 - dense_4_loss: 0.6453 - dense_5_loss: 0.7406 - dense_1_accuracy: 0.9996 - dense_2_accuracy: 0.9731 - dense_3_accuracy: 0.8504 - dense_4_accuracy: 0.7921 - dense_5_accuracy: 0.7598 - val_loss: 1.5953 - val_dense_1_loss: 0.0020 - val_dense_2_loss: 0.0839 - val_dense_3_loss: 0.4401 - val_dense_4_loss: 0.5002 - val_dense_5_loss: 0.5691 - val_dense_1_accuracy: 0.9997 - val_dense_2_accuracy: 0.9756 - val_dense_3_accuracy: 0.8662 - val_dense_4_accuracy: 0.8566 - val_dense_5_accuracy: 0.8209 - lr: 0.0010 - 17s/epoch - 87ms/step\n",
      "Epoch 16/20\n",
      "\n",
      "Epoch 00016: val_loss improved from 1.59527 to 1.55132, saving model to weights.housenumbers.hdf5\n",
      "200/200 - 17s - loss: 1.9216 - dense_1_loss: 0.0028 - dense_2_loss: 0.0903 - dense_3_loss: 0.4714 - dense_4_loss: 0.6303 - dense_5_loss: 0.7268 - dense_1_accuracy: 0.9996 - dense_2_accuracy: 0.9745 - dense_3_accuracy: 0.8522 - dense_4_accuracy: 0.7993 - dense_5_accuracy: 0.7613 - val_loss: 1.5513 - val_dense_1_loss: 0.0020 - val_dense_2_loss: 0.0800 - val_dense_3_loss: 0.4307 - val_dense_4_loss: 0.4929 - val_dense_5_loss: 0.5458 - val_dense_1_accuracy: 0.9997 - val_dense_2_accuracy: 0.9744 - val_dense_3_accuracy: 0.8691 - val_dense_4_accuracy: 0.8519 - val_dense_5_accuracy: 0.8344 - lr: 0.0010 - 17s/epoch - 86ms/step\n",
      "Epoch 17/20\n",
      "\n",
      "Epoch 00017: val_loss improved from 1.55132 to 1.54796, saving model to weights.housenumbers.hdf5\n",
      "200/200 - 17s - loss: 1.8275 - dense_1_loss: 0.0028 - dense_2_loss: 0.0826 - dense_3_loss: 0.4499 - dense_4_loss: 0.5990 - dense_5_loss: 0.6931 - dense_1_accuracy: 0.9996 - dense_2_accuracy: 0.9759 - dense_3_accuracy: 0.8559 - dense_4_accuracy: 0.8083 - dense_5_accuracy: 0.7720 - val_loss: 1.5480 - val_dense_1_loss: 0.0019 - val_dense_2_loss: 0.0804 - val_dense_3_loss: 0.4242 - val_dense_4_loss: 0.4855 - val_dense_5_loss: 0.5559 - val_dense_1_accuracy: 0.9997 - val_dense_2_accuracy: 0.9762 - val_dense_3_accuracy: 0.8697 - val_dense_4_accuracy: 0.8522 - val_dense_5_accuracy: 0.8216 - lr: 0.0010 - 17s/epoch - 87ms/step\n",
      "Epoch 18/20\n",
      "\n",
      "Epoch 00018: val_loss improved from 1.54796 to 1.49192, saving model to weights.housenumbers.hdf5\n",
      "200/200 - 17s - loss: 1.7805 - dense_1_loss: 0.0024 - dense_2_loss: 0.0830 - dense_3_loss: 0.4419 - dense_4_loss: 0.5893 - dense_5_loss: 0.6639 - dense_1_accuracy: 0.9996 - dense_2_accuracy: 0.9755 - dense_3_accuracy: 0.8605 - dense_4_accuracy: 0.8117 - dense_5_accuracy: 0.7815 - val_loss: 1.4919 - val_dense_1_loss: 0.0021 - val_dense_2_loss: 0.0776 - val_dense_3_loss: 0.4161 - val_dense_4_loss: 0.4724 - val_dense_5_loss: 0.5238 - val_dense_1_accuracy: 0.9997 - val_dense_2_accuracy: 0.9800 - val_dense_3_accuracy: 0.8734 - val_dense_4_accuracy: 0.8612 - val_dense_5_accuracy: 0.8363 - lr: 0.0010 - 17s/epoch - 86ms/step\n",
      "Epoch 19/20\n",
      "\n",
      "Epoch 00019: val_loss improved from 1.49192 to 1.44543, saving model to weights.housenumbers.hdf5\n",
      "200/200 - 18s - loss: 1.7617 - dense_1_loss: 0.0025 - dense_2_loss: 0.0831 - dense_3_loss: 0.4354 - dense_4_loss: 0.5751 - dense_5_loss: 0.6656 - dense_1_accuracy: 0.9996 - dense_2_accuracy: 0.9748 - dense_3_accuracy: 0.8614 - dense_4_accuracy: 0.8162 - dense_5_accuracy: 0.7830 - val_loss: 1.4454 - val_dense_1_loss: 0.0019 - val_dense_2_loss: 0.0805 - val_dense_3_loss: 0.3962 - val_dense_4_loss: 0.4631 - val_dense_5_loss: 0.5037 - val_dense_1_accuracy: 0.9997 - val_dense_2_accuracy: 0.9766 - val_dense_3_accuracy: 0.8825 - val_dense_4_accuracy: 0.8659 - val_dense_5_accuracy: 0.8462 - lr: 0.0010 - 18s/epoch - 91ms/step\n",
      "Epoch 20/20\n",
      "\n",
      "Epoch 00020: val_loss improved from 1.44543 to 1.39594, saving model to weights.housenumbers.hdf5\n",
      "200/200 - 18s - loss: 1.7175 - dense_1_loss: 0.0023 - dense_2_loss: 0.0832 - dense_3_loss: 0.4255 - dense_4_loss: 0.5605 - dense_5_loss: 0.6460 - dense_1_accuracy: 0.9996 - dense_2_accuracy: 0.9754 - dense_3_accuracy: 0.8648 - dense_4_accuracy: 0.8218 - dense_5_accuracy: 0.7911 - val_loss: 1.3959 - val_dense_1_loss: 0.0019 - val_dense_2_loss: 0.0787 - val_dense_3_loss: 0.3900 - val_dense_4_loss: 0.4415 - val_dense_5_loss: 0.4839 - val_dense_1_accuracy: 0.9997 - val_dense_2_accuracy: 0.9772 - val_dense_3_accuracy: 0.8838 - val_dense_4_accuracy: 0.8675 - val_dense_5_accuracy: 0.8484 - lr: 0.0010 - 18s/epoch - 89ms/step\n"
     ]
    }
   ],
   "source": [
    "checkpointer=ModelCheckpoint(filepath=fw,verbose=2,\n",
    "                             save_best_only=True)\n",
    "lr_reduction=ReduceLROnPlateau(monitor='val_loss',patience=10,\n",
    "                               verbose=2,factor=.75)\n",
    "estopping=EarlyStopping(monitor='val_loss',patience=16,verbose=2)\n",
    "history=cnn_model.fit(x_train,y_train_list,\n",
    "                      validation_data=(x_valid,y_valid_list), \n",
    "                      epochs=20,batch_size=128,verbose=2,\n",
    "                      callbacks=[checkpointer,lr_reduction,estopping])"
   ]
  },
  {
   "cell_type": "code",
   "execution_count": 17,
   "metadata": {
    "_kg_hide-output": true,
    "_uuid": "c218417e74f1817078e53f56a7e08bc88e7bbedd"
   },
   "outputs": [
    {
     "name": "stdout",
     "output_type": "stream",
     "text": [
      "CNN. Scores: \n",
      " [1.3000767230987549, 0.001742635853588581, 0.052605386823415756, 0.3508732318878174, 0.4095848798751831, 0.4852706491947174, 0.9996874928474426, 0.987500011920929, 0.8868749737739563, 0.8815624713897705, 0.8518750071525574]\n",
      "CNN Model. Average Accuracy: 92.15%\n"
     ]
    }
   ],
   "source": [
    "cnn_model.load_weights(fw)\n",
    "cnn_scores=cnn_model.evaluate(x_test,y_test_list,verbose=0)\n",
    "print(\"CNN. Scores: \\n\" ,(cnn_scores))\n",
    "avg_accuracy=sum([cnn_scores[i] for i in range(6,11)])/5\n",
    "print(\"CNN Model. Average Accuracy: %.2f%%\"%(avg_accuracy*100))"
   ]
  },
  {
   "cell_type": "code",
   "execution_count": 19,
   "metadata": {},
   "outputs": [
    {
     "name": "stdout",
     "output_type": "stream",
     "text": [
      "Label:  [10 10 10  5  4]\n",
      "[[0 0 0 0 0 0 0 0 0 0 1]\n",
      " [0 0 0 0 0 0 0 0 0 0 1]\n",
      " [0 0 0 0 0 0 0 0 0 0 1]\n",
      " [0 0 0 0 0 1 0 0 0 0 0]\n",
      " [0 0 0 0 1 0 0 0 0 0 0]]\n"
     ]
    },
    {
     "data": {
      "text/plain": "<Figure size 432x288 with 1 Axes>",
      "image/png": "[encoded data removed]"
     },
     "metadata": {
      "needs_background": "light"
     },
     "output_type": "display_data"
    }
   ],
   "source": [
    "n=np.random.randint(1,2000,1)[0]\n",
    "print('Label: ',train_labels[n])\n",
    "print(ctrain_labels[n])\n",
    "pl.imshow(train_images[n].reshape(32,32),\n",
    "          cmap=pl.cm.bone);"
   ]
  },
  {
   "cell_type": "code",
   "execution_count": 23,
   "metadata": {},
   "outputs": [
    {
     "data": {
      "text/plain": "<Figure size 432x288 with 1 Axes>",
      "image/png": "[encoded data removed]"
     },
     "metadata": {
      "needs_background": "light"
     },
     "output_type": "display_data"
    },
    {
     "data": {
      "text/plain": "<Figure size 432x288 with 1 Axes>",
      "image/png": "[encoded data removed]"
     },
     "metadata": {
      "needs_background": "light"
     },
     "output_type": "display_data"
    },
    {
     "data": {
      "text/plain": "<Figure size 432x288 with 1 Axes>",
      "image/png": "[encoded data removed]"
     },
     "metadata": {
      "needs_background": "light"
     },
     "output_type": "display_data"
    },
    {
     "data": {
      "text/plain": "<Figure size 432x288 with 1 Axes>",
      "image/png": "[encoded data removed]"
     },
     "metadata": {
      "needs_background": "light"
     },
     "output_type": "display_data"
    },
    {
     "data": {
      "text/plain": "<Figure size 432x288 with 1 Axes>",
      "image/png": "[encoded data removed]"
     },
     "metadata": {
      "needs_background": "light"
     },
     "output_type": "display_data"
    }
   ],
   "source": [
    "from random import sample\n",
    "\n",
    "samples_to_predict = []\n",
    "images = sample(list(test_images), 5)\n",
    "\n",
    "# Generate plots for samples\n",
    "for sample in images:\n",
    "  # Generate a plot\n",
    "  reshaped_image = sample.reshape((32, 32))\n",
    "  pl.imshow(reshaped_image)\n",
    "  pl.show()\n",
    "  # Add sample to array for prediction\n",
    "  samples_to_predict.append(sample)"
   ]
  },
  {
   "cell_type": "code",
   "execution_count": 24,
   "metadata": {},
   "outputs": [
    {
     "name": "stdout",
     "output_type": "stream",
     "text": [
      "(5, 32, 32, 1)\n"
     ]
    }
   ],
   "source": [
    "samples_to_predict = np.array(samples_to_predict)\n",
    "print(samples_to_predict.shape)\n",
    "\n",
    "predictions = cnn_model.predict(samples_to_predict)\n"
   ]
  },
  {
   "cell_type": "code",
   "execution_count": 25,
   "metadata": {
    "pycharm": {
     "name": "#%%\n"
    }
   },
   "outputs": [
    {
     "data": {
      "text/plain": "array([[10, 10, 10, 10, 10],\n       [10, 10, 10, 10, 10],\n       [ 1, 10,  1, 10, 10],\n       [ 3,  9,  3,  2,  7],\n       [ 7,  2,  9,  8,  2]], dtype=int64)"
     },
     "execution_count": 25,
     "metadata": {},
     "output_type": "execute_result"
    }
   ],
   "source": [
    "classes = np.argmax(predictions, axis=2)\n",
    "classes"
   ]
  },
  {
   "cell_type": "code",
   "execution_count": 26,
   "outputs": [
    {
     "data": {
      "text/plain": "[array([[1.8493177e-11, 1.2376001e-09, 1.1345305e-11, 3.1212561e-14,\n         9.7605699e-15, 1.2675112e-14, 3.9022737e-14, 1.9382760e-14,\n         3.2672761e-14, 4.5162472e-14, 1.0000000e+00],\n        [9.8786646e-10, 3.8494128e-09, 5.0797908e-09, 3.4910641e-10,\n         1.8604703e-10, 1.1608046e-10, 1.3067068e-10, 1.0875794e-10,\n         3.4323611e-10, 1.7987707e-10, 1.0000000e+00],\n        [2.9811642e-06, 1.0415438e-04, 1.7123379e-05, 3.6628774e-07,\n         2.8021196e-07, 2.0603409e-07, 4.3857253e-07, 3.0455035e-07,\n         2.7725949e-07, 2.9538614e-07, 9.9987352e-01],\n        [1.6152510e-11, 9.4012166e-11, 2.3462451e-10, 5.8335611e-12,\n         2.3384335e-12, 6.7209183e-13, 1.3835033e-12, 1.1143084e-12,\n         2.2080885e-12, 1.1967880e-12, 1.0000000e+00],\n        [4.1104617e-08, 2.8315927e-08, 1.0296004e-07, 4.6349960e-08,\n         2.7401745e-08, 1.9187384e-08, 4.2921929e-08, 2.2242221e-08,\n         4.1145874e-08, 2.8859654e-08, 9.9999952e-01]], dtype=float32),\n array([[1.0050253e-12, 3.1698029e-05, 2.3506971e-08, 9.7785140e-09,\n         3.7694658e-08, 2.8859587e-11, 9.4493713e-10, 4.8094501e-10,\n         4.7830326e-09, 1.7831380e-09, 9.9996817e-01],\n        [1.4196495e-09, 1.1172018e-05, 2.1320238e-06, 4.0148387e-07,\n         1.1332816e-06, 2.9071607e-08, 1.5411393e-08, 1.6731398e-08,\n         2.2532891e-09, 8.2709599e-09, 9.9998510e-01],\n        [1.0878505e-06, 3.1931028e-03, 6.5361070e-05, 5.7550060e-05,\n         5.3237691e-05, 7.7325576e-06, 1.8913202e-05, 9.6747310e-05,\n         7.4729046e-06, 2.0386908e-06, 9.9649674e-01],\n        [9.6441528e-11, 3.7050384e-07, 1.5217422e-06, 6.6716703e-09,\n         7.5899254e-10, 3.3761856e-09, 3.7351350e-10, 6.6687185e-09,\n         8.3079620e-11, 1.1712133e-09, 9.9999809e-01],\n        [1.1867844e-08, 3.1865442e-05, 6.5996232e-06, 4.9541234e-07,\n         8.8935444e-08, 1.8508852e-07, 5.5590931e-08, 4.1102979e-07,\n         2.5138895e-08, 1.4710317e-07, 9.9996018e-01]], dtype=float32),\n array([[2.4625530e-07, 9.9620301e-01, 1.2514336e-04, 4.3696346e-04,\n         9.1157673e-04, 2.6251744e-05, 3.4487547e-04, 1.1028671e-03,\n         9.7444456e-05, 2.4919162e-05, 7.2671485e-04],\n        [3.6758047e-06, 6.2228623e-03, 4.3469783e-05, 9.5301715e-05,\n         2.3131180e-04, 8.9460718e-06, 3.1592896e-05, 5.5835071e-06,\n         2.8081181e-06, 1.7287721e-05, 9.9333715e-01],\n        [2.4756187e-04, 9.0623701e-01, 1.1264537e-02, 1.1261083e-02,\n         1.7434236e-02, 4.9946317e-03, 8.3724624e-03, 2.4959218e-02,\n         3.6581706e-03, 1.3974892e-03, 1.0173590e-02],\n        [1.7056871e-08, 5.6012872e-05, 2.0087408e-03, 1.8718147e-06,\n         7.4848919e-07, 7.5304212e-07, 2.3769645e-07, 8.3189188e-06,\n         1.1348101e-07, 1.6478302e-06, 9.9792153e-01],\n        [4.4653198e-06, 7.7366196e-03, 5.4364634e-04, 1.4542884e-04,\n         2.0347801e-05, 1.0002510e-04, 2.3728653e-05, 2.6933423e-03,\n         6.3874427e-06, 1.8258718e-06, 9.8872417e-01]], dtype=float32),\n array([[9.89867258e-05, 6.61630300e-04, 7.59048053e-05, 9.33803618e-01,\n         1.58881396e-03, 1.99164078e-02, 2.62359646e-03, 8.99347418e-04,\n         3.82520109e-02, 2.07922747e-03, 5.25931625e-07],\n        [2.77126748e-02, 9.33333579e-03, 1.18909674e-02, 1.75572354e-02,\n         8.06804672e-02, 4.99147922e-03, 5.34763597e-02, 2.41883710e-04,\n         1.28337145e-01, 6.63349211e-01, 2.42926320e-03],\n        [1.40513787e-02, 7.52538117e-03, 1.03088416e-01, 4.47449982e-01,\n         2.49998830e-02, 6.92294762e-02, 1.65876057e-02, 1.41593795e-02,\n         1.25275493e-01, 1.76399037e-01, 1.23402639e-03],\n        [1.95780831e-06, 2.62136949e-04, 9.97564912e-01, 3.81658232e-04,\n         2.85312970e-04, 1.57305403e-05, 1.22616575e-06, 1.03183778e-03,\n         5.08496596e-05, 3.85033141e-04, 1.93389351e-05],\n        [1.36844511e-03, 1.71539932e-01, 4.82349619e-02, 3.99721749e-02,\n         1.42618862e-03, 4.16216440e-03, 1.93237315e-03, 6.24963880e-01,\n         1.93735340e-03, 2.08585570e-03, 1.02376677e-01]], dtype=float32),\n array([[1.5262241e-06, 4.7598244e-04, 1.0467132e-03, 1.0415337e-03,\n         1.4693225e-06, 1.2601880e-04, 2.5171989e-06, 9.9729210e-01,\n         6.2606282e-06, 5.8026385e-06, 1.3786059e-14],\n        [1.2480965e-04, 3.9674883e-04, 9.4887722e-01, 5.5288826e-03,\n         3.1434707e-03, 3.8761029e-04, 1.1494660e-04, 3.4767147e-02,\n         5.2912007e-03, 1.3679679e-03, 1.3667835e-09],\n        [3.2877099e-02, 6.2830332e-03, 1.4251664e-01, 8.2462549e-02,\n         3.2845620e-02, 5.4273490e-02, 3.6784086e-02, 1.2472849e-02,\n         2.7840239e-01, 3.2108122e-01, 9.8931002e-07],\n        [4.7044442e-03, 1.1799391e-04, 1.2539729e-03, 1.5706388e-02,\n         9.3256525e-04, 1.2525590e-02, 4.2829018e-02, 9.6526892e-05,\n         8.4488255e-01, 7.6950908e-02, 1.4616408e-10],\n        [2.0648943e-02, 1.0219841e-01, 5.2837127e-01, 9.0894930e-02,\n         3.2441400e-02, 5.0864723e-03, 4.9187234e-03, 8.7190069e-02,\n         8.4430851e-02, 4.3817483e-02, 1.4603650e-06]], dtype=float32)]"
     },
     "execution_count": 26,
     "metadata": {},
     "output_type": "execute_result"
    }
   ],
   "source": [
    "predictions"
   ],
   "metadata": {
    "collapsed": false,
    "pycharm": {
     "name": "#%%\n"
    }
   }
  }
 ],
 "metadata": {
  "kernelspec": {
   "display_name": "Python 3",
   "language": "python",
   "name": "python3"
  },
  "language_info": {
   "codemirror_mode": {
    "name": "ipython",
    "version": 3
   },
   "file_extension": ".py",
   "mimetype": "text/x-python",
   "name": "python",
   "nbconvert_exporter": "python",
   "pygments_lexer": "ipython3",
   "version": "3.7.3"
  }
 },
 "nbformat": 4,
 "nbformat_minor": 4
}